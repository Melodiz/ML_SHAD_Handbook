{
  "cells": [
    {
      "cell_type": "markdown",
      "metadata": {
        "id": "1s2GHGJ1K1uh"
      },
      "source": [
        "## Лабораторная работа \"Линейные модели\""
      ]
    },
    {
      "cell_type": "markdown",
      "metadata": {
        "id": "Wy-GsKMLK1uk"
      },
      "source": [
        "Некоторые задачи в этом ноутбуке надо будет сдавать в [контест](https://new.contest.yandex.ru/60377/start). Когда сдаете туда код, не забудьте сверху прописать все нужные импорты."
      ]
    },
    {
      "cell_type": "markdown",
      "metadata": {
        "id": "Tjm0ejHfK1ul"
      },
      "source": [
        "Мы рассчитываем, что перед тем, как садиться за этот ноутбук, вы прочитали часть про регрессию главы \"Линейные модели\" хендбука по ML."
      ]
    },
    {
      "cell_type": "markdown",
      "metadata": {
        "id": "XeK9RFdNK1ul"
      },
      "source": [
        "Начнём с загрузки необходимых библиотек и функций.\n",
        "\n",
        "Параметр `seed` будет использоваться далее для инициализации генератора случайных чисел из библиотеки `numpy`."
      ]
    },
    {
      "cell_type": "code",
      "execution_count": 2073,
      "metadata": {
        "id": "ckp6TITPK1ul",
        "pycharm": {
          "name": "#%%\n"
        }
      },
      "outputs": [],
      "source": [
        "import numpy as np\n",
        "import pandas as pd\n",
        "from typing import Optional, List\n",
        "from sklearn.model_selection import train_test_split\n",
        "\n",
        "import sklearn.base\n",
        "# import standartScaler\n",
        "from sklearn.preprocessing import StandardScaler\n",
        "from sklearn.base import BaseEstimator, TransformerMixin, RegressorMixin\n",
        "from sklearn.linear_model import LinearRegression, Ridge, Lasso, ElasticNet\n",
        "from sklearn.metrics import mean_absolute_error, make_scorer\n",
        "import matplotlib.pyplot as plt\n",
        "\n",
        "from sklearn.pipeline import Pipeline\n",
        "from sklearn.model_selection import cross_val_score\n",
        "from sklearn.model_selection import KFold\n",
        "\n",
        "from sklearn.model_selection import GridSearchCV\n",
        "from sklearn.preprocessing import OneHotEncoder\n",
        "seed = 24"
      ]
    },
    {
      "cell_type": "markdown",
      "metadata": {
        "id": "gUoWdYEMK1um"
      },
      "source": [
        "В этом ноутбуке мы будем практиковаться на датасете [\"The Ames Iowa Housing Data\"](https://www.openml.org/d/41211). Здесь собраны описания и цены жилья в городе Эймс, штат Айова. Мы будем решать задачу предсказания цены (`Sale_Price`) по всем остальным признакам.\n",
        "\n",
        "И начнём мы, конечно, с того, что внимательно посмотрим на датасет: какие там есть объекты и какие признаки."
      ]
    },
    {
      "cell_type": "code",
      "execution_count": 2074,
      "metadata": {
        "id": "wB9CDwb6K1un",
        "pycharm": {
          "name": "#%%\n"
        }
      },
      "outputs": [],
      "source": [
        "## Uncomment the line below to download data and install necessary packages\n",
        "## Maybe won't work on Windows :(\n",
        "\n",
        "# !pip install numpy pandas sklearn matplotlib\n",
        "# !curl https://api.openml.org/data/get_csv/20649135/file2ed11cebe25.arff > data.csv"
      ]
    },
    {
      "cell_type": "code",
      "execution_count": 2075,
      "metadata": {
        "id": "-hZmDQonK1un",
        "pycharm": {
          "name": "#%%\n"
        }
      },
      "outputs": [
        {
          "data": {
            "text/html": [
              "<div>\n",
              "<style scoped>\n",
              "    .dataframe tbody tr th:only-of-type {\n",
              "        vertical-align: middle;\n",
              "    }\n",
              "\n",
              "    .dataframe tbody tr th {\n",
              "        vertical-align: top;\n",
              "    }\n",
              "\n",
              "    .dataframe thead th {\n",
              "        text-align: right;\n",
              "    }\n",
              "</style>\n",
              "<table border=\"1\" class=\"dataframe\">\n",
              "  <thead>\n",
              "    <tr style=\"text-align: right;\">\n",
              "      <th></th>\n",
              "      <th>MS_SubClass</th>\n",
              "      <th>MS_Zoning</th>\n",
              "      <th>Lot_Frontage</th>\n",
              "      <th>Lot_Area</th>\n",
              "      <th>Street</th>\n",
              "      <th>Alley</th>\n",
              "      <th>Lot_Shape</th>\n",
              "      <th>Land_Contour</th>\n",
              "      <th>Utilities</th>\n",
              "      <th>Lot_Config</th>\n",
              "      <th>...</th>\n",
              "      <th>Fence</th>\n",
              "      <th>Misc_Feature</th>\n",
              "      <th>Misc_Val</th>\n",
              "      <th>Mo_Sold</th>\n",
              "      <th>Year_Sold</th>\n",
              "      <th>Sale_Type</th>\n",
              "      <th>Sale_Condition</th>\n",
              "      <th>Sale_Price</th>\n",
              "      <th>Longitude</th>\n",
              "      <th>Latitude</th>\n",
              "    </tr>\n",
              "  </thead>\n",
              "  <tbody>\n",
              "    <tr>\n",
              "      <th>1520</th>\n",
              "      <td>Two_Story_1945_and_Older</td>\n",
              "      <td>Residential_High_Density</td>\n",
              "      <td>55</td>\n",
              "      <td>8525</td>\n",
              "      <td>Pave</td>\n",
              "      <td>No_Alley_Access</td>\n",
              "      <td>Regular</td>\n",
              "      <td>Bnk</td>\n",
              "      <td>AllPub</td>\n",
              "      <td>Inside</td>\n",
              "      <td>...</td>\n",
              "      <td>No_Fence</td>\n",
              "      <td>NaN</td>\n",
              "      <td>0</td>\n",
              "      <td>11</td>\n",
              "      <td>2008</td>\n",
              "      <td>WD</td>\n",
              "      <td>Abnorml</td>\n",
              "      <td>130000</td>\n",
              "      <td>-93.647024</td>\n",
              "      <td>42.019272</td>\n",
              "    </tr>\n",
              "    <tr>\n",
              "      <th>117</th>\n",
              "      <td>One_Story_1946_and_Newer_All_Styles</td>\n",
              "      <td>Residential_Low_Density</td>\n",
              "      <td>80</td>\n",
              "      <td>9600</td>\n",
              "      <td>Pave</td>\n",
              "      <td>No_Alley_Access</td>\n",
              "      <td>Regular</td>\n",
              "      <td>Lvl</td>\n",
              "      <td>AllPub</td>\n",
              "      <td>Inside</td>\n",
              "      <td>...</td>\n",
              "      <td>No_Fence</td>\n",
              "      <td>NaN</td>\n",
              "      <td>0</td>\n",
              "      <td>4</td>\n",
              "      <td>2010</td>\n",
              "      <td>WD</td>\n",
              "      <td>Normal</td>\n",
              "      <td>142250</td>\n",
              "      <td>-93.626137</td>\n",
              "      <td>42.046574</td>\n",
              "    </tr>\n",
              "    <tr>\n",
              "      <th>2000</th>\n",
              "      <td>One_Story_1945_and_Older</td>\n",
              "      <td>Residential_Medium_Density</td>\n",
              "      <td>90</td>\n",
              "      <td>8100</td>\n",
              "      <td>Pave</td>\n",
              "      <td>Paved</td>\n",
              "      <td>Regular</td>\n",
              "      <td>Lvl</td>\n",
              "      <td>AllPub</td>\n",
              "      <td>Inside</td>\n",
              "      <td>...</td>\n",
              "      <td>Good_Wood</td>\n",
              "      <td>NaN</td>\n",
              "      <td>0</td>\n",
              "      <td>6</td>\n",
              "      <td>2007</td>\n",
              "      <td>COD</td>\n",
              "      <td>Normal</td>\n",
              "      <td>153500</td>\n",
              "      <td>-93.609453</td>\n",
              "      <td>42.027757</td>\n",
              "    </tr>\n",
              "    <tr>\n",
              "      <th>1081</th>\n",
              "      <td>One_Story_PUD_1946_and_Newer</td>\n",
              "      <td>Residential_Medium_Density</td>\n",
              "      <td>0</td>\n",
              "      <td>3940</td>\n",
              "      <td>Pave</td>\n",
              "      <td>No_Alley_Access</td>\n",
              "      <td>Regular</td>\n",
              "      <td>Lvl</td>\n",
              "      <td>AllPub</td>\n",
              "      <td>Inside</td>\n",
              "      <td>...</td>\n",
              "      <td>No_Fence</td>\n",
              "      <td>NaN</td>\n",
              "      <td>0</td>\n",
              "      <td>5</td>\n",
              "      <td>2008</td>\n",
              "      <td>WD</td>\n",
              "      <td>Normal</td>\n",
              "      <td>219990</td>\n",
              "      <td>-93.640958</td>\n",
              "      <td>42.062299</td>\n",
              "    </tr>\n",
              "    <tr>\n",
              "      <th>1234</th>\n",
              "      <td>One_Story_1946_and_Newer_All_Styles</td>\n",
              "      <td>Residential_Low_Density</td>\n",
              "      <td>0</td>\n",
              "      <td>7390</td>\n",
              "      <td>Pave</td>\n",
              "      <td>No_Alley_Access</td>\n",
              "      <td>Slightly_Irregular</td>\n",
              "      <td>Lvl</td>\n",
              "      <td>AllPub</td>\n",
              "      <td>Inside</td>\n",
              "      <td>...</td>\n",
              "      <td>No_Fence</td>\n",
              "      <td>NaN</td>\n",
              "      <td>0</td>\n",
              "      <td>7</td>\n",
              "      <td>2008</td>\n",
              "      <td>WD</td>\n",
              "      <td>Normal</td>\n",
              "      <td>135000</td>\n",
              "      <td>-93.617179</td>\n",
              "      <td>42.042373</td>\n",
              "    </tr>\n",
              "    <tr>\n",
              "      <th>2243</th>\n",
              "      <td>One_Story_1946_and_Newer_All_Styles</td>\n",
              "      <td>C_all</td>\n",
              "      <td>65</td>\n",
              "      <td>6565</td>\n",
              "      <td>Pave</td>\n",
              "      <td>No_Alley_Access</td>\n",
              "      <td>Regular</td>\n",
              "      <td>Lvl</td>\n",
              "      <td>AllPub</td>\n",
              "      <td>Corner</td>\n",
              "      <td>...</td>\n",
              "      <td>No_Fence</td>\n",
              "      <td>NaN</td>\n",
              "      <td>0</td>\n",
              "      <td>8</td>\n",
              "      <td>2007</td>\n",
              "      <td>WD</td>\n",
              "      <td>Abnorml</td>\n",
              "      <td>140000</td>\n",
              "      <td>-93.615064</td>\n",
              "      <td>42.021422</td>\n",
              "    </tr>\n",
              "    <tr>\n",
              "      <th>2368</th>\n",
              "      <td>Two_Story_PUD_1946_and_Newer</td>\n",
              "      <td>Residential_Medium_Density</td>\n",
              "      <td>21</td>\n",
              "      <td>1680</td>\n",
              "      <td>Pave</td>\n",
              "      <td>No_Alley_Access</td>\n",
              "      <td>Regular</td>\n",
              "      <td>Lvl</td>\n",
              "      <td>AllPub</td>\n",
              "      <td>Inside</td>\n",
              "      <td>...</td>\n",
              "      <td>No_Fence</td>\n",
              "      <td>NaN</td>\n",
              "      <td>0</td>\n",
              "      <td>4</td>\n",
              "      <td>2006</td>\n",
              "      <td>WD</td>\n",
              "      <td>Abnorml</td>\n",
              "      <td>91500</td>\n",
              "      <td>-93.627328</td>\n",
              "      <td>42.051839</td>\n",
              "    </tr>\n",
              "    <tr>\n",
              "      <th>2824</th>\n",
              "      <td>Two_Story_1946_and_Newer</td>\n",
              "      <td>Residential_Low_Density</td>\n",
              "      <td>90</td>\n",
              "      <td>11060</td>\n",
              "      <td>Pave</td>\n",
              "      <td>No_Alley_Access</td>\n",
              "      <td>Slightly_Irregular</td>\n",
              "      <td>Lvl</td>\n",
              "      <td>AllPub</td>\n",
              "      <td>Corner</td>\n",
              "      <td>...</td>\n",
              "      <td>No_Fence</td>\n",
              "      <td>NaN</td>\n",
              "      <td>0</td>\n",
              "      <td>2</td>\n",
              "      <td>2006</td>\n",
              "      <td>ConLD</td>\n",
              "      <td>Normal</td>\n",
              "      <td>229000</td>\n",
              "      <td>-93.671612</td>\n",
              "      <td>42.018648</td>\n",
              "    </tr>\n",
              "    <tr>\n",
              "      <th>2104</th>\n",
              "      <td>One_Story_1946_and_Newer_All_Styles</td>\n",
              "      <td>Residential_Low_Density</td>\n",
              "      <td>68</td>\n",
              "      <td>8814</td>\n",
              "      <td>Pave</td>\n",
              "      <td>No_Alley_Access</td>\n",
              "      <td>Regular</td>\n",
              "      <td>Lvl</td>\n",
              "      <td>AllPub</td>\n",
              "      <td>Inside</td>\n",
              "      <td>...</td>\n",
              "      <td>No_Fence</td>\n",
              "      <td>NaN</td>\n",
              "      <td>0</td>\n",
              "      <td>1</td>\n",
              "      <td>2007</td>\n",
              "      <td>New</td>\n",
              "      <td>Partial</td>\n",
              "      <td>203000</td>\n",
              "      <td>-93.689071</td>\n",
              "      <td>42.024598</td>\n",
              "    </tr>\n",
              "    <tr>\n",
              "      <th>1739</th>\n",
              "      <td>Two_Story_1946_and_Newer</td>\n",
              "      <td>Residential_Low_Density</td>\n",
              "      <td>64</td>\n",
              "      <td>7713</td>\n",
              "      <td>Pave</td>\n",
              "      <td>No_Alley_Access</td>\n",
              "      <td>Regular</td>\n",
              "      <td>Lvl</td>\n",
              "      <td>AllPub</td>\n",
              "      <td>Inside</td>\n",
              "      <td>...</td>\n",
              "      <td>No_Fence</td>\n",
              "      <td>NaN</td>\n",
              "      <td>0</td>\n",
              "      <td>7</td>\n",
              "      <td>2007</td>\n",
              "      <td>New</td>\n",
              "      <td>Partial</td>\n",
              "      <td>177594</td>\n",
              "      <td>-93.644447</td>\n",
              "      <td>42.063106</td>\n",
              "    </tr>\n",
              "    <tr>\n",
              "      <th>1930</th>\n",
              "      <td>One_Story_1946_and_Newer_All_Styles</td>\n",
              "      <td>Residential_Low_Density</td>\n",
              "      <td>60</td>\n",
              "      <td>11556</td>\n",
              "      <td>Pave</td>\n",
              "      <td>No_Alley_Access</td>\n",
              "      <td>Regular</td>\n",
              "      <td>Lvl</td>\n",
              "      <td>AllPub</td>\n",
              "      <td>Inside</td>\n",
              "      <td>...</td>\n",
              "      <td>No_Fence</td>\n",
              "      <td>NaN</td>\n",
              "      <td>0</td>\n",
              "      <td>7</td>\n",
              "      <td>2007</td>\n",
              "      <td>WD</td>\n",
              "      <td>Normal</td>\n",
              "      <td>142000</td>\n",
              "      <td>-93.617242</td>\n",
              "      <td>42.041243</td>\n",
              "    </tr>\n",
              "    <tr>\n",
              "      <th>1242</th>\n",
              "      <td>One_Story_1946_and_Newer_All_Styles</td>\n",
              "      <td>Residential_Low_Density</td>\n",
              "      <td>80</td>\n",
              "      <td>11900</td>\n",
              "      <td>Pave</td>\n",
              "      <td>No_Alley_Access</td>\n",
              "      <td>Slightly_Irregular</td>\n",
              "      <td>Lvl</td>\n",
              "      <td>AllPub</td>\n",
              "      <td>Corner</td>\n",
              "      <td>...</td>\n",
              "      <td>No_Fence</td>\n",
              "      <td>NaN</td>\n",
              "      <td>0</td>\n",
              "      <td>6</td>\n",
              "      <td>2008</td>\n",
              "      <td>WD</td>\n",
              "      <td>Normal</td>\n",
              "      <td>166000</td>\n",
              "      <td>-93.613077</td>\n",
              "      <td>42.043820</td>\n",
              "    </tr>\n",
              "    <tr>\n",
              "      <th>2538</th>\n",
              "      <td>Split_or_Multilevel</td>\n",
              "      <td>Residential_Low_Density</td>\n",
              "      <td>80</td>\n",
              "      <td>9600</td>\n",
              "      <td>Pave</td>\n",
              "      <td>No_Alley_Access</td>\n",
              "      <td>Regular</td>\n",
              "      <td>Lvl</td>\n",
              "      <td>AllPub</td>\n",
              "      <td>Inside</td>\n",
              "      <td>...</td>\n",
              "      <td>No_Fence</td>\n",
              "      <td>NaN</td>\n",
              "      <td>0</td>\n",
              "      <td>7</td>\n",
              "      <td>2006</td>\n",
              "      <td>WD</td>\n",
              "      <td>Normal</td>\n",
              "      <td>158000</td>\n",
              "      <td>-93.626345</td>\n",
              "      <td>42.046570</td>\n",
              "    </tr>\n",
              "    <tr>\n",
              "      <th>2238</th>\n",
              "      <td>One_Story_1945_and_Older</td>\n",
              "      <td>Residential_Medium_Density</td>\n",
              "      <td>59</td>\n",
              "      <td>8263</td>\n",
              "      <td>Pave</td>\n",
              "      <td>No_Alley_Access</td>\n",
              "      <td>Regular</td>\n",
              "      <td>Bnk</td>\n",
              "      <td>AllPub</td>\n",
              "      <td>Inside</td>\n",
              "      <td>...</td>\n",
              "      <td>Minimum_Privacy</td>\n",
              "      <td>NaN</td>\n",
              "      <td>0</td>\n",
              "      <td>5</td>\n",
              "      <td>2007</td>\n",
              "      <td>WD</td>\n",
              "      <td>Normal</td>\n",
              "      <td>118400</td>\n",
              "      <td>-93.629496</td>\n",
              "      <td>42.021547</td>\n",
              "    </tr>\n",
              "    <tr>\n",
              "      <th>761</th>\n",
              "      <td>One_Story_1946_and_Newer_All_Styles</td>\n",
              "      <td>Residential_Low_Density</td>\n",
              "      <td>50</td>\n",
              "      <td>4280</td>\n",
              "      <td>Pave</td>\n",
              "      <td>No_Alley_Access</td>\n",
              "      <td>Slightly_Irregular</td>\n",
              "      <td>Lvl</td>\n",
              "      <td>AllPub</td>\n",
              "      <td>Inside</td>\n",
              "      <td>...</td>\n",
              "      <td>No_Fence</td>\n",
              "      <td>NaN</td>\n",
              "      <td>0</td>\n",
              "      <td>9</td>\n",
              "      <td>2009</td>\n",
              "      <td>WD</td>\n",
              "      <td>Normal</td>\n",
              "      <td>88750</td>\n",
              "      <td>-93.659205</td>\n",
              "      <td>42.032681</td>\n",
              "    </tr>\n",
              "    <tr>\n",
              "      <th>2641</th>\n",
              "      <td>Two_Story_1945_and_Older</td>\n",
              "      <td>Residential_Medium_Density</td>\n",
              "      <td>58</td>\n",
              "      <td>6451</td>\n",
              "      <td>Pave</td>\n",
              "      <td>Gravel</td>\n",
              "      <td>Regular</td>\n",
              "      <td>Lvl</td>\n",
              "      <td>AllPub</td>\n",
              "      <td>Inside</td>\n",
              "      <td>...</td>\n",
              "      <td>No_Fence</td>\n",
              "      <td>NaN</td>\n",
              "      <td>0</td>\n",
              "      <td>5</td>\n",
              "      <td>2006</td>\n",
              "      <td>WD</td>\n",
              "      <td>Normal</td>\n",
              "      <td>139900</td>\n",
              "      <td>-93.619513</td>\n",
              "      <td>42.031506</td>\n",
              "    </tr>\n",
              "    <tr>\n",
              "      <th>1164</th>\n",
              "      <td>Two_Story_PUD_1946_and_Newer</td>\n",
              "      <td>Floating_Village_Residential</td>\n",
              "      <td>34</td>\n",
              "      <td>3604</td>\n",
              "      <td>Pave</td>\n",
              "      <td>Paved</td>\n",
              "      <td>Regular</td>\n",
              "      <td>Lvl</td>\n",
              "      <td>AllPub</td>\n",
              "      <td>Corner</td>\n",
              "      <td>...</td>\n",
              "      <td>No_Fence</td>\n",
              "      <td>NaN</td>\n",
              "      <td>0</td>\n",
              "      <td>2</td>\n",
              "      <td>2008</td>\n",
              "      <td>WD</td>\n",
              "      <td>Abnorml</td>\n",
              "      <td>146000</td>\n",
              "      <td>-93.644891</td>\n",
              "      <td>42.047548</td>\n",
              "    </tr>\n",
              "    <tr>\n",
              "      <th>453</th>\n",
              "      <td>One_Story_PUD_1946_and_Newer</td>\n",
              "      <td>Residential_Low_Density</td>\n",
              "      <td>34</td>\n",
              "      <td>5122</td>\n",
              "      <td>Pave</td>\n",
              "      <td>No_Alley_Access</td>\n",
              "      <td>Slightly_Irregular</td>\n",
              "      <td>Lvl</td>\n",
              "      <td>AllPub</td>\n",
              "      <td>Inside</td>\n",
              "      <td>...</td>\n",
              "      <td>No_Fence</td>\n",
              "      <td>NaN</td>\n",
              "      <td>0</td>\n",
              "      <td>3</td>\n",
              "      <td>2009</td>\n",
              "      <td>WD</td>\n",
              "      <td>Normal</td>\n",
              "      <td>184500</td>\n",
              "      <td>-93.649723</td>\n",
              "      <td>42.059183</td>\n",
              "    </tr>\n",
              "    <tr>\n",
              "      <th>2343</th>\n",
              "      <td>One_and_Half_Story_Finished_All_Ages</td>\n",
              "      <td>Residential_Low_Density</td>\n",
              "      <td>0</td>\n",
              "      <td>13837</td>\n",
              "      <td>Pave</td>\n",
              "      <td>No_Alley_Access</td>\n",
              "      <td>Slightly_Irregular</td>\n",
              "      <td>Lvl</td>\n",
              "      <td>AllPub</td>\n",
              "      <td>Corner</td>\n",
              "      <td>...</td>\n",
              "      <td>No_Fence</td>\n",
              "      <td>NaN</td>\n",
              "      <td>0</td>\n",
              "      <td>2</td>\n",
              "      <td>2006</td>\n",
              "      <td>WD</td>\n",
              "      <td>Normal</td>\n",
              "      <td>229000</td>\n",
              "      <td>-93.637874</td>\n",
              "      <td>42.054367</td>\n",
              "    </tr>\n",
              "    <tr>\n",
              "      <th>2616</th>\n",
              "      <td>One_Story_1946_and_Newer_All_Styles</td>\n",
              "      <td>Residential_Low_Density</td>\n",
              "      <td>86</td>\n",
              "      <td>11650</td>\n",
              "      <td>Pave</td>\n",
              "      <td>No_Alley_Access</td>\n",
              "      <td>Regular</td>\n",
              "      <td>Lvl</td>\n",
              "      <td>AllPub</td>\n",
              "      <td>Corner</td>\n",
              "      <td>...</td>\n",
              "      <td>No_Fence</td>\n",
              "      <td>NaN</td>\n",
              "      <td>0</td>\n",
              "      <td>6</td>\n",
              "      <td>2006</td>\n",
              "      <td>WD</td>\n",
              "      <td>Normal</td>\n",
              "      <td>157500</td>\n",
              "      <td>-93.605384</td>\n",
              "      <td>42.041653</td>\n",
              "    </tr>\n",
              "  </tbody>\n",
              "</table>\n",
              "<p>20 rows × 81 columns</p>\n",
              "</div>"
            ],
            "text/plain": [
              "                               MS_SubClass                     MS_Zoning  \\\n",
              "1520              Two_Story_1945_and_Older      Residential_High_Density   \n",
              "117    One_Story_1946_and_Newer_All_Styles       Residential_Low_Density   \n",
              "2000              One_Story_1945_and_Older    Residential_Medium_Density   \n",
              "1081          One_Story_PUD_1946_and_Newer    Residential_Medium_Density   \n",
              "1234   One_Story_1946_and_Newer_All_Styles       Residential_Low_Density   \n",
              "2243   One_Story_1946_and_Newer_All_Styles                         C_all   \n",
              "2368          Two_Story_PUD_1946_and_Newer    Residential_Medium_Density   \n",
              "2824              Two_Story_1946_and_Newer       Residential_Low_Density   \n",
              "2104   One_Story_1946_and_Newer_All_Styles       Residential_Low_Density   \n",
              "1739              Two_Story_1946_and_Newer       Residential_Low_Density   \n",
              "1930   One_Story_1946_and_Newer_All_Styles       Residential_Low_Density   \n",
              "1242   One_Story_1946_and_Newer_All_Styles       Residential_Low_Density   \n",
              "2538                   Split_or_Multilevel       Residential_Low_Density   \n",
              "2238              One_Story_1945_and_Older    Residential_Medium_Density   \n",
              "761    One_Story_1946_and_Newer_All_Styles       Residential_Low_Density   \n",
              "2641              Two_Story_1945_and_Older    Residential_Medium_Density   \n",
              "1164          Two_Story_PUD_1946_and_Newer  Floating_Village_Residential   \n",
              "453           One_Story_PUD_1946_and_Newer       Residential_Low_Density   \n",
              "2343  One_and_Half_Story_Finished_All_Ages       Residential_Low_Density   \n",
              "2616   One_Story_1946_and_Newer_All_Styles       Residential_Low_Density   \n",
              "\n",
              "      Lot_Frontage  Lot_Area Street            Alley           Lot_Shape  \\\n",
              "1520            55      8525   Pave  No_Alley_Access             Regular   \n",
              "117             80      9600   Pave  No_Alley_Access             Regular   \n",
              "2000            90      8100   Pave            Paved             Regular   \n",
              "1081             0      3940   Pave  No_Alley_Access             Regular   \n",
              "1234             0      7390   Pave  No_Alley_Access  Slightly_Irregular   \n",
              "2243            65      6565   Pave  No_Alley_Access             Regular   \n",
              "2368            21      1680   Pave  No_Alley_Access             Regular   \n",
              "2824            90     11060   Pave  No_Alley_Access  Slightly_Irregular   \n",
              "2104            68      8814   Pave  No_Alley_Access             Regular   \n",
              "1739            64      7713   Pave  No_Alley_Access             Regular   \n",
              "1930            60     11556   Pave  No_Alley_Access             Regular   \n",
              "1242            80     11900   Pave  No_Alley_Access  Slightly_Irregular   \n",
              "2538            80      9600   Pave  No_Alley_Access             Regular   \n",
              "2238            59      8263   Pave  No_Alley_Access             Regular   \n",
              "761             50      4280   Pave  No_Alley_Access  Slightly_Irregular   \n",
              "2641            58      6451   Pave           Gravel             Regular   \n",
              "1164            34      3604   Pave            Paved             Regular   \n",
              "453             34      5122   Pave  No_Alley_Access  Slightly_Irregular   \n",
              "2343             0     13837   Pave  No_Alley_Access  Slightly_Irregular   \n",
              "2616            86     11650   Pave  No_Alley_Access             Regular   \n",
              "\n",
              "     Land_Contour Utilities Lot_Config  ...            Fence Misc_Feature  \\\n",
              "1520          Bnk    AllPub     Inside  ...         No_Fence          NaN   \n",
              "117           Lvl    AllPub     Inside  ...         No_Fence          NaN   \n",
              "2000          Lvl    AllPub     Inside  ...        Good_Wood          NaN   \n",
              "1081          Lvl    AllPub     Inside  ...         No_Fence          NaN   \n",
              "1234          Lvl    AllPub     Inside  ...         No_Fence          NaN   \n",
              "2243          Lvl    AllPub     Corner  ...         No_Fence          NaN   \n",
              "2368          Lvl    AllPub     Inside  ...         No_Fence          NaN   \n",
              "2824          Lvl    AllPub     Corner  ...         No_Fence          NaN   \n",
              "2104          Lvl    AllPub     Inside  ...         No_Fence          NaN   \n",
              "1739          Lvl    AllPub     Inside  ...         No_Fence          NaN   \n",
              "1930          Lvl    AllPub     Inside  ...         No_Fence          NaN   \n",
              "1242          Lvl    AllPub     Corner  ...         No_Fence          NaN   \n",
              "2538          Lvl    AllPub     Inside  ...         No_Fence          NaN   \n",
              "2238          Bnk    AllPub     Inside  ...  Minimum_Privacy          NaN   \n",
              "761           Lvl    AllPub     Inside  ...         No_Fence          NaN   \n",
              "2641          Lvl    AllPub     Inside  ...         No_Fence          NaN   \n",
              "1164          Lvl    AllPub     Corner  ...         No_Fence          NaN   \n",
              "453           Lvl    AllPub     Inside  ...         No_Fence          NaN   \n",
              "2343          Lvl    AllPub     Corner  ...         No_Fence          NaN   \n",
              "2616          Lvl    AllPub     Corner  ...         No_Fence          NaN   \n",
              "\n",
              "     Misc_Val Mo_Sold Year_Sold Sale_Type Sale_Condition Sale_Price  \\\n",
              "1520        0      11      2008       WD         Abnorml     130000   \n",
              "117         0       4      2010       WD          Normal     142250   \n",
              "2000        0       6      2007       COD         Normal     153500   \n",
              "1081        0       5      2008       WD          Normal     219990   \n",
              "1234        0       7      2008       WD          Normal     135000   \n",
              "2243        0       8      2007       WD         Abnorml     140000   \n",
              "2368        0       4      2006       WD         Abnorml      91500   \n",
              "2824        0       2      2006     ConLD         Normal     229000   \n",
              "2104        0       1      2007       New        Partial     203000   \n",
              "1739        0       7      2007       New        Partial     177594   \n",
              "1930        0       7      2007       WD          Normal     142000   \n",
              "1242        0       6      2008       WD          Normal     166000   \n",
              "2538        0       7      2006       WD          Normal     158000   \n",
              "2238        0       5      2007       WD          Normal     118400   \n",
              "761         0       9      2009       WD          Normal      88750   \n",
              "2641        0       5      2006       WD          Normal     139900   \n",
              "1164        0       2      2008       WD         Abnorml     146000   \n",
              "453         0       3      2009       WD          Normal     184500   \n",
              "2343        0       2      2006       WD          Normal     229000   \n",
              "2616        0       6      2006       WD          Normal     157500   \n",
              "\n",
              "      Longitude   Latitude  \n",
              "1520 -93.647024  42.019272  \n",
              "117  -93.626137  42.046574  \n",
              "2000 -93.609453  42.027757  \n",
              "1081 -93.640958  42.062299  \n",
              "1234 -93.617179  42.042373  \n",
              "2243 -93.615064  42.021422  \n",
              "2368 -93.627328  42.051839  \n",
              "2824 -93.671612  42.018648  \n",
              "2104 -93.689071  42.024598  \n",
              "1739 -93.644447  42.063106  \n",
              "1930 -93.617242  42.041243  \n",
              "1242 -93.613077  42.043820  \n",
              "2538 -93.626345  42.046570  \n",
              "2238 -93.629496  42.021547  \n",
              "761  -93.659205  42.032681  \n",
              "2641 -93.619513  42.031506  \n",
              "1164 -93.644891  42.047548  \n",
              "453  -93.649723  42.059183  \n",
              "2343 -93.637874  42.054367  \n",
              "2616 -93.605384  42.041653  \n",
              "\n",
              "[20 rows x 81 columns]"
            ]
          },
          "execution_count": 2075,
          "metadata": {},
          "output_type": "execute_result"
        }
      ],
      "source": [
        "data = pd.read_csv('./data.csv')\n",
        "\n",
        "data.sample(20)"
      ]
    },
    {
      "cell_type": "code",
      "execution_count": 2076,
      "metadata": {
        "id": "KP3ImCtGK1uo",
        "pycharm": {
          "name": "#%%\n"
        }
      },
      "outputs": [
        {
          "name": "stdout",
          "output_type": "stream",
          "text": [
            "<class 'pandas.core.frame.DataFrame'>\n",
            "RangeIndex: 2930 entries, 0 to 2929\n",
            "Data columns (total 81 columns):\n",
            " #   Column              Non-Null Count  Dtype  \n",
            "---  ------              --------------  -----  \n",
            " 0   MS_SubClass         2930 non-null   object \n",
            " 1   MS_Zoning           2930 non-null   object \n",
            " 2   Lot_Frontage        2930 non-null   int64  \n",
            " 3   Lot_Area            2930 non-null   int64  \n",
            " 4   Street              2930 non-null   object \n",
            " 5   Alley               2930 non-null   object \n",
            " 6   Lot_Shape           2930 non-null   object \n",
            " 7   Land_Contour        2930 non-null   object \n",
            " 8   Utilities           2930 non-null   object \n",
            " 9   Lot_Config          2930 non-null   object \n",
            " 10  Land_Slope          2930 non-null   object \n",
            " 11  Neighborhood        2930 non-null   object \n",
            " 12  Condition_1         2930 non-null   object \n",
            " 13  Condition_2         2930 non-null   object \n",
            " 14  Bldg_Type           2930 non-null   object \n",
            " 15  House_Style         2930 non-null   object \n",
            " 16  Overall_Qual        2930 non-null   object \n",
            " 17  Overall_Cond        2930 non-null   object \n",
            " 18  Year_Built          2930 non-null   int64  \n",
            " 19  Year_Remod_Add      2930 non-null   int64  \n",
            " 20  Roof_Style          2930 non-null   object \n",
            " 21  Roof_Matl           2930 non-null   object \n",
            " 22  Exterior_1st        2930 non-null   object \n",
            " 23  Exterior_2nd        2930 non-null   object \n",
            " 24  Mas_Vnr_Type        1155 non-null   object \n",
            " 25  Mas_Vnr_Area        2930 non-null   int64  \n",
            " 26  Exter_Qual          2930 non-null   object \n",
            " 27  Exter_Cond          2930 non-null   object \n",
            " 28  Foundation          2930 non-null   object \n",
            " 29  Bsmt_Qual           2930 non-null   object \n",
            " 30  Bsmt_Cond           2930 non-null   object \n",
            " 31  Bsmt_Exposure       2930 non-null   object \n",
            " 32  BsmtFin_Type_1      2930 non-null   object \n",
            " 33  BsmtFin_SF_1        2930 non-null   int64  \n",
            " 34  BsmtFin_Type_2      2930 non-null   object \n",
            " 35  BsmtFin_SF_2        2930 non-null   int64  \n",
            " 36  Bsmt_Unf_SF         2930 non-null   int64  \n",
            " 37  Total_Bsmt_SF       2930 non-null   int64  \n",
            " 38  Heating             2930 non-null   object \n",
            " 39  Heating_QC          2930 non-null   object \n",
            " 40  Central_Air         2930 non-null   object \n",
            " 41  Electrical          2930 non-null   object \n",
            " 42  First_Flr_SF        2930 non-null   int64  \n",
            " 43  Second_Flr_SF       2930 non-null   int64  \n",
            " 44  Low_Qual_Fin_SF     2930 non-null   int64  \n",
            " 45  Gr_Liv_Area         2930 non-null   int64  \n",
            " 46  Bsmt_Full_Bath      2930 non-null   int64  \n",
            " 47  Bsmt_Half_Bath      2930 non-null   int64  \n",
            " 48  Full_Bath           2930 non-null   int64  \n",
            " 49  Half_Bath           2930 non-null   int64  \n",
            " 50  Bedroom_AbvGr       2930 non-null   int64  \n",
            " 51  Kitchen_AbvGr       2930 non-null   int64  \n",
            " 52  Kitchen_Qual        2930 non-null   object \n",
            " 53  TotRms_AbvGrd       2930 non-null   int64  \n",
            " 54  Functional          2930 non-null   object \n",
            " 55  Fireplaces          2930 non-null   int64  \n",
            " 56  Fireplace_Qu        2930 non-null   object \n",
            " 57  Garage_Type         2930 non-null   object \n",
            " 58  Garage_Finish       2930 non-null   object \n",
            " 59  Garage_Cars         2930 non-null   int64  \n",
            " 60  Garage_Area         2930 non-null   int64  \n",
            " 61  Garage_Qual         2930 non-null   object \n",
            " 62  Garage_Cond         2930 non-null   object \n",
            " 63  Paved_Drive         2930 non-null   object \n",
            " 64  Wood_Deck_SF        2930 non-null   int64  \n",
            " 65  Open_Porch_SF       2930 non-null   int64  \n",
            " 66  Enclosed_Porch      2930 non-null   int64  \n",
            " 67  Three_season_porch  2930 non-null   int64  \n",
            " 68  Screen_Porch        2930 non-null   int64  \n",
            " 69  Pool_Area           2930 non-null   int64  \n",
            " 70  Pool_QC             2930 non-null   object \n",
            " 71  Fence               2930 non-null   object \n",
            " 72  Misc_Feature        106 non-null    object \n",
            " 73  Misc_Val            2930 non-null   int64  \n",
            " 74  Mo_Sold             2930 non-null   int64  \n",
            " 75  Year_Sold           2930 non-null   int64  \n",
            " 76  Sale_Type           2930 non-null   object \n",
            " 77  Sale_Condition      2930 non-null   object \n",
            " 78  Sale_Price          2930 non-null   int64  \n",
            " 79  Longitude           2930 non-null   float64\n",
            " 80  Latitude            2930 non-null   float64\n",
            "dtypes: float64(2), int64(33), object(46)\n",
            "memory usage: 1.8+ MB\n"
          ]
        }
      ],
      "source": [
        "data.info()"
      ]
    },
    {
      "cell_type": "markdown",
      "metadata": {
        "id": "BjxpXT4xK1uo"
      },
      "source": [
        "Разобьём данные на обучающую и тестовую выборки."
      ]
    },
    {
      "cell_type": "code",
      "execution_count": 2077,
      "metadata": {
        "id": "aoC9zcGAK1uo",
        "pycharm": {
          "name": "#%%\n"
        }
      },
      "outputs": [
        {
          "name": "stdout",
          "output_type": "stream",
          "text": [
            "Train : (2344, 80) (2344,)\n",
            "Test : (586, 80) (586,)\n"
          ]
        }
      ],
      "source": [
        "target_column = \"Sale_Price\"\n",
        "np.random.seed(seed)\n",
        "\n",
        "test_size = 0.2\n",
        "data_train, data_test, Y_train, Y_test = train_test_split(\n",
        "    data[data.columns.drop(\"Sale_Price\")],\n",
        "    np.array(data[\"Sale_Price\"]),\n",
        "    test_size=test_size,\n",
        "    random_state=seed)\n",
        "\n",
        "print(f\"Train : {data_train.shape} {Y_train.shape}\")\n",
        "print(f\"Test : {data_test.shape} {Y_test.shape}\")"
      ]
    },
    {
      "cell_type": "markdown",
      "metadata": {
        "id": "WNCvCJaAK1uo"
      },
      "source": [
        "Среди признаков нам встретятся как вещественные, так и категориальные. Пока что выделим в качестве категориальных те, значениями которых являются не числа, а какие-то другие сущности (но имейте в виду, что численные с виду признаки тоже могут быть категориальными)."
      ]
    },
    {
      "cell_type": "code",
      "execution_count": 2078,
      "metadata": {
        "id": "QK9MTesIK1up",
        "pycharm": {
          "name": "#%%\n"
        }
      },
      "outputs": [
        {
          "name": "stdout",
          "output_type": "stream",
          "text": [
            "Continuous : 34, Categorical : 46\n"
          ]
        }
      ],
      "source": [
        "continuous_columns = [key for key in data.keys() if data[key].dtype in (\"int64\", \"float64\")]\n",
        "categorical_columns = [key for key in data.keys() if data[key].dtype == \"object\"]\n",
        "\n",
        "continuous_columns.remove(target_column)\n",
        "\n",
        "print(f\"Continuous : {len(continuous_columns)}, Categorical : {len(categorical_columns)}\")"
      ]
    },
    {
      "cell_type": "markdown",
      "metadata": {
        "id": "kEjtSzMcK1up"
      },
      "source": [
        "Посмотрим на заголовки признаков. В целом, многие названия вполне говорящие, и можно догадаться, что стоит за этими признаками."
      ]
    },
    {
      "cell_type": "markdown",
      "metadata": {
        "id": "dSh9iDYUK1up"
      },
      "source": [
        "Одна из целей этого ноутбука — познакомить вас с fit-predict (fit-transform) интерфейсом, типичным для многих реализаций моделей машинного обучения и для различных инструментов работы с данными.\n",
        "\n",
        "Множество фреймворков машинного обучения (например, scikit-learn, CatBoost) содержат в себе модели и алгоритмы, которые описаны в виде классов, у которых есть два ключевых метода: fit и predict (transform). Давайте разберёмся, что делают эти методы.\n",
        "\n",
        "***fit*** — метод для обучения алгоритма. Он получает на входе данные и таргеты для обучения, после чего обновляет состояние класса. После использования метода fit считается, что объект класса готов к использованию. Внутри этого метода может быть что угодно: обучение модели, подбор гиперпараметров, подсчет статистик и т. д.\n",
        "\n",
        "***predict*** — метод для предсказания , обученного с помощью _fit_. В задаче регрессии это оценка параметра, в задаче классификации предсказанный класс.\n",
        "\n",
        "***transform*** — стилистический синоним _predict_, но используется в классах, которые реализуют преобразования данных, например, масштабирование признаков или кодирование категориальных фичей.\n",
        "\n",
        "***fit_transform*** — метод который учится на данных, а потом их же преобразовывает."
      ]
    },
    {
      "cell_type": "markdown",
      "metadata": {
        "id": "2QVOr2SrK1up"
      },
      "source": [
        "### 1. Базовая предобработка данных"
      ]
    },
    {
      "cell_type": "markdown",
      "metadata": {
        "id": "IWi5LNwHK1up"
      },
      "source": [
        "Отметим два важных свойства линейной регрессии:\n",
        "\n",
        "- строго говоря, она умеет работать только с вещественными признаками\n",
        "- если признаки имеют разный масштаб при сопоставимой важности, регрессия может проигнорировать те, что имеют меньший масштаб\n",
        "\n",
        "Первое соображение заставляет придумывать способы борьбы с категориальными признаками, и мы начнём с самого простого: проигнорируем их.\n",
        "\n",
        "Второе соображение приводит к необходимости приводить признаки к одному масштабу (\"нормализовать фичи\"). В `sklearn` для этого есть два основных класса:\n",
        "\n",
        "- [sklearn.preprocessing.StandardScaler](https://scikit-learn.org/stable/modules/generated/sklearn.preprocessing.StandardScaler.html) - в каждой колонке вычитает среднее и делит на стандартное отклонение.\n",
        "- [sklearn.preprocessing.MinMaxScaler](https://scikit-learn.org/stable/modules/generated/sklearn.preprocessing.MinMaxScaler.html) - в каждой колонке вычитает минимальное значение и делит на разницу между минимальным и максимальным.\n",
        "\n",
        "Применяются они в соответствии с описанной выше философией. Например:\n",
        "\n",
        "```\n",
        "scaler = StandardScaler()\n",
        "X_train = scaler.fit_transform(X_train)\n",
        "X_test = scaler.transform(X_test)\n",
        "```\n",
        "\n",
        "Обратите внимание, что scaler настраивается на обучающей выборке (именно по ней вычисляются среднее и стандартное отклонение), а к тестовой он применяется с уже подсчитанными статистиками.\n",
        "\n",
        "**Вопрос**. А зачем? Почему бы не нормировать отдельно обучающую и тестовую выборку? Почему бы не настроить наш scaler на объединении двух выборок? Ведь благодаря большему количеству данных мы бы настроили его точнее!\n",
        "<p>\n",
        "<details>\n",
        "  <summary>Кликните, чтобы узнать ответ</summary>\n",
        "\n",
        "Если мы по-разному отнормируем обучающую и тестовую выборки, то нам будет весьма сложно применять модель, обученную на одной из них, к другой. Это просто не будет иметь физического смысла.\n",
        "\n",
        "Настраивать что-либо на тестовой выборке — это очень плохая идея. Тестовая выборка должна быть неким независимым мерилом качества наших усилий по предсказанию, а если мы разрешим информации о распределении признаков в тестовой выборке \"протечь\" в процесс обучения, то мы эту независимость испортим.\n",
        "\n",
        "</details>"
      ]
    },
    {
      "cell_type": "markdown",
      "metadata": {
        "id": "refOuBa2K1up"
      },
      "source": [
        "Итак, мы решили делать преобразование данных, которое состоит в:\n",
        "\n",
        "- сохранении лишь непрерывных фичей;\n",
        "- нормализации этих фичей (давайте остановимся на [sklearn.preprocessing.StandardScaler](https://scikit-learn.org/stable/modules/generated/sklearn.preprocessing.StandardScaler.html))\n",
        "\n",
        "В этом пункте вам нужно будет сделать класс такой предобработки данных, причём оформим мы его в виде класса с интерфейсом fit-transform.\n",
        "\n",
        "Несколько важных соображений:\n",
        "\n",
        "1. В прошлой лабораторной метод fit у нас ничего не возвращал, но правильнее сделать так, чтобы метод fit возвращал сам класс. В частности, это позволит нам писать model = model.fit().\n",
        "\n",
        "2. Первоначальный анализ данных удобно делать, когда они лежат в pd.DataFrame, т к у этого класса много методов, которые малым количеством телодвижений позволяют считать статистики и строить графики. Модели же проще учить, когда данные лежат в np.array, потому большое количество библиотек, где реализованы алгоритмы машинного обучения совместимы именно с numpy. Поэтому сделайте так, чтобы метод transform получал на вход pd.Dataframe, а возвращал np.array.\n",
        "\n",
        "3. В sklearn есть классы, от которых можно отнаследоваться, чтобы сделать класс с [fit-predict](https://scikit-learn.org/stable/modules/generated/sklearn.base.RegressorMixin.html#sklearn.base.RegressorMixin) или [fit-transform](https://scikit-learn.org/stable/modules/generated/sklearn.base.TransformerMixin.html) интерфейсом. Это очень полезно, т к позволит вам в дальнейшем пользоваться методами [GridSearchCV](https://scikit-learn.org/stable/modules/generated/sklearn.model_selection.GridSearchCV.html) и подобными. В этом пункте отнаследуйтесь от второго.\n",
        "\n",
        "4. У метода __init__ должен быть параметр ```needed_columns=None```. Туда передается список колонок, которые нужно взять из датафрейме. Делать это надо в ```fit``` и ```transform```. В случае если если он равен None, то класс оставляет все колонки из исходного набора данных.\n",
        "\n",
        "5. Обратите внимание, что достаточно реализовать `fit` и `transform`, а метод `fit_transform` из них слепит родительский класс.\n",
        "\n",
        "**Готовый препроцессор вам нужно будет сдать в Контест**"
      ]
    },
    {
      "cell_type": "code",
      "execution_count": 2079,
      "metadata": {
        "id": "deONxYcGK1uq",
        "pycharm": {
          "name": "#%%\n"
        }
      },
      "outputs": [],
      "source": [
        "class BaseDataPreprocessor(BaseEstimator, TransformerMixin):\n",
        "    def __init__(self, needed_columns: Optional[List[str]] = None):\n",
        "        \"\"\"\n",
        "        :param needed_columns: if not None select these columns from the dataframe\n",
        "        \"\"\"\n",
        "        self.needed_columns = needed_columns\n",
        "        self.scaler = StandardScaler()\n",
        "\n",
        "    def fit(self, data: pd.DataFrame, *args):\n",
        "        \"\"\"\n",
        "        Prepares the class for future transformations\n",
        "        :param data: pd.DataFrame with all available columns\n",
        "        :return: self\n",
        "        \"\"\"\n",
        "        if self.needed_columns is not None:\n",
        "            data = data[self.needed_columns]\n",
        "        self.scaler.fit(data)\n",
        "        return self\n",
        "\n",
        "    def transform(self, data: pd.DataFrame) -> np.array:\n",
        "        \"\"\"\n",
        "        Transforms features so that they can be fed into the regressors\n",
        "        :param data: pd.DataFrame with all available columns\n",
        "        :return: np.array with preprocessed features\n",
        "        \"\"\"\n",
        "        if self.needed_columns is not None:\n",
        "            data = data[self.needed_columns]\n",
        "        data = self.scaler.transform(data)\n",
        "        return data\n"
      ]
    },
    {
      "cell_type": "markdown",
      "metadata": {
        "id": "zKeWoQ1SK1uq"
      },
      "source": [
        "**1. Сдайте вашу реализацию в Контест, задача «Простая предобработка».**"
      ]
    },
    {
      "cell_type": "code",
      "execution_count": 2080,
      "metadata": {
        "id": "-4LkDFASK1uq",
        "pycharm": {
          "name": "#%%\n"
        }
      },
      "outputs": [],
      "source": [
        "base_preprocessor = BaseDataPreprocessor(needed_columns=continuous_columns)\n",
        "\n",
        "X_train_base = base_preprocessor.fit_transform(data_train)\n",
        "X_test_base = base_preprocessor.transform(data_test)"
      ]
    },
    {
      "cell_type": "markdown",
      "metadata": {
        "id": "p14ruXEjK1uq"
      },
      "source": [
        "### 1.2 Умная предобработка данных"
      ]
    },
    {
      "cell_type": "markdown",
      "metadata": {
        "id": "8erGdYK-K1uq"
      },
      "source": [
        "Теперь давайте попробуем сделать что-нибудь поинтереснее. Для того, чтобы будущие алгоритмы регрессии работали хорошо, они должны обучаться и предсказывать на информативных фичах. Зачастую оказывается гораздо продуктивнее потратить какое-то время на изучение предметной области и придумывание хороших фичей (feature engineering), нежели жадно перебирать все известные алгоритмы машинного обучения.\n",
        "В этом пункте попробуйте придумать новых фичей и написать новый класс предобработки данных, который их добавляет (а, возможно, и убирает ещё какие-то старые).\n",
        "\n",
        "В конце этого пункта в раскрывашке перечислены наши идеи относительно того, что можно было добавить."
      ]
    },
    {
      "cell_type": "code",
      "execution_count": 2081,
      "metadata": {
        "id": "Ob8_T-DRK1uq",
        "pycharm": {
          "name": "#%%\n"
        }
      },
      "outputs": [],
      "source": [
        "class SmartDataPreprocessor(BaseEstimator, TransformerMixin):\n",
        "    def __init__(self, needed_columns: Optional[List[str]] = None):\n",
        "        self.city_center_coords = (42.034534, -93.620369)\n",
        "        self.median_lot_frontage = None\n",
        "        self.median_distance_from_city_center = None\n",
        "        self.scalar = StandardScaler()\n",
        "        self.needed_columns = needed_columns\n",
        "\n",
        "    def haversine(self, lat1, lon1, lat2, lon2):\n",
        "        from math import radians, cos, sin, sqrt, atan2\n",
        "        R = 6371  # Radius of the Earth in kilometers\n",
        "        dlat = radians(lat2 - lat1)\n",
        "        dlon = radians(lat2 - lon1)\n",
        "        a = sin(dlat / 2) ** 2 + cos(radians(lat1)) * cos(radians(lat2)) * sin(dlon / 2) ** 2\n",
        "        c = 2 * atan2(sqrt(a), sqrt(1 - a))\n",
        "        distance = R * c\n",
        "        return distance\n",
        "\n",
        "    def fit(self, X, y=None):\n",
        "        self.median_lot_frontage = X['Lot_Frontage'].median()\n",
        "        self.median_distance_from_city_center = X.apply(\n",
        "            lambda row: self.haversine(row['Latitude'], row['Longitude'], self.city_center_coords[0], self.city_center_coords[1]), axis=1).median()\n",
        "        self.scalar.fit(X[self.needed_columns])\n",
        "        return self\n",
        "\n",
        "    def transform(self, X):\n",
        "        # add new features\n",
        "        # X['House_Age'] = X['Year_Sold'] - X['Year_Built']\n",
        "        # X['Remodel_Age'] = X['Year_Sold'] - X['Year_Remod_Add']\n",
        "        # X['Total_Square_Footage'] = X['First_Flr_SF'] + X['Second_Flr_SF'] + X['Total_Bsmt_SF']\n",
        "        # X['Has_FirePlace'] = X['Fireplaces'] > 0\n",
        "        # X['Has_Pool'] = X['Pool_Area'] > 0\n",
        "        X['Distance_From_City_Center'] = X.apply(\n",
        "            lambda row: self.haversine(row['Latitude'], row['Longitude'], self.city_center_coords[0], self.city_center_coords[1]), axis=1)\n",
        "        X['Distance_From_City_Center'].fillna(self.median_distance_from_city_center, inplace=True)\n",
        "        X['Lot_Frontage'].fillna(self.median_lot_frontage, inplace=True)\n",
        "        # remove all columns except needed_columns\n",
        "        X = X[self.needed_columns]\n",
        "        # scale features\n",
        "        X = self.scalar.transform(X)\n",
        "        return X"
      ]
    },
    {
      "cell_type": "code",
      "execution_count": 2082,
      "metadata": {
        "id": "ceqVElj8K1uq",
        "pycharm": {
          "name": "#%%\n"
        }
      },
      "outputs": [],
      "source": [
        "preprocessor_smart = SmartDataPreprocessor(needed_columns=continuous_columns)\n",
        "\n",
        "X_train_smart = preprocessor_smart.fit_transform(data_train)\n",
        "X_test_smart = preprocessor_smart.transform(data_test)"
      ]
    },
    {
      "cell_type": "markdown",
      "metadata": {
        "id": "dCZ-Ud9OK1ur"
      },
      "source": [
        "<details>\n",
        "  <summary>Пара простых идей. Кликните, когда будете готовы</summary>\n",
        "\n",
        "Например в датасете есть координаты квартиры, которые по идее сами по себе мало чего дают нашему регрессору. С другой стороны, по ним можно оценить центр города (или просто найти его на карте) и использовать в качестве фичи расстояние до центра города, которое может естественным образом влиять на цену жилья.\n",
        "\n",
        "Ещё может быть полезным почистить пропуски. И тут есть хитрость. Если вы просто вызовете data.info(), то вам покажется, что пропусков нет, но они могут приходить под разными обличьями. Например, у 490 объектов параметр Lot_Frontage (площадь фасада) равен нулю. Неожиданно, правда? Возможно, мы хотим эти нулевые значения заменить чем-нибудь, скажем, медианой.\n",
        "\n",
        "</details>\n"
      ]
    },
    {
      "cell_type": "markdown",
      "metadata": {
        "id": "aIt68R29K1ur"
      },
      "source": [
        "### 2. Линейная регрессия"
      ]
    },
    {
      "cell_type": "markdown",
      "metadata": {
        "id": "Ydi2yHwqK1ur"
      },
      "source": [
        "Давайте получим базовое решение (бейзлайн), чтобы потом с ним можно было сравниваться.\n",
        "\n",
        "Обучите линейную регрессию на обучающей выборке (которую мы подвергли преобразованию BaseDataPreprocessor). В библиотеке Sklearn есть релизация [без регуляризации](https://scikit-learn.org/stable/modules/generated/sklearn.linear_model.LinearRegression.html?highlight=linear%20regression), [с L2-регуляризацией](https://scikit-learn.org/stable/modules/generated/sklearn.linear_model.Ridge.html#sklearn.linear_model.Ridge) и [с L1-регуляризацией](https://scikit-learn.org/stable/modules/generated/sklearn.linear_model.Lasso).\n",
        "\n",
        "Начнём с обычной регрессии. Получите предсказания на тестовых данных и оцените на них качество модели. В качестве метрики оценки качества возьмите [средний модуль отклонения](https://scikit-learn.org/stable/modules/generated/sklearn.metrics.mean_absolute_error.html) (mean absolute error, MAE). Как вам кажется, насколько хорошей вышла модель?\n"
      ]
    },
    {
      "cell_type": "code",
      "execution_count": 2083,
      "metadata": {
        "id": "d8AAt9_tK1ur",
        "pycharm": {
          "name": "#%%\n"
        }
      },
      "outputs": [
        {
          "name": "stdout",
          "output_type": "stream",
          "text": [
            "MAE (no regularization) = 23826.13\n",
            "MAE (L1 regularization) = 23822.64\n"
          ]
        }
      ],
      "source": [
        "# No regularization Model\n",
        "model_NoL = LinearRegression()\n",
        "\n",
        "model_NoL.fit(X_train_base, Y_train)\n",
        "y_pred_NoL = model_NoL.predict(X_test_base)\n",
        "mae_NoL = mean_absolute_error(Y_test, y_pred_NoL)\n",
        "print(f'MAE (no regularization) = {mae_NoL:.2f}')\n",
        "\n",
        "# L1-regularization Model\n",
        "\n",
        "model_L1 = Lasso(alpha=0.1)\n",
        "\n",
        "model_L1.fit(X_train_base, Y_train)\n",
        "y_pred_L1 = model_L1.predict(X_test_base)\n",
        "mae_L1 = mean_absolute_error(Y_test, y_pred_L1)\n",
        "print(f'MAE (L1 regularization) = {mae_L1:.2f}')"
      ]
    },
    {
      "cell_type": "markdown",
      "metadata": {
        "id": "js3L8W-AK1ur"
      },
      "source": [
        "Теперь попробуйте L2-регуляризованную модель Ridge(). Какие значения метрик она даёт?"
      ]
    },
    {
      "cell_type": "code",
      "execution_count": 2084,
      "metadata": {
        "id": "XnMAW-74K1ur",
        "pycharm": {
          "name": "#%%\n"
        }
      },
      "outputs": [
        {
          "name": "stdout",
          "output_type": "stream",
          "text": [
            "MAE (L2 regularization) = 23822.62\n"
          ]
        }
      ],
      "source": [
        "# L2-regularization Model\n",
        "\n",
        "model_L2 = Ridge(alpha=0.1)\n",
        "\n",
        "model_L2.fit(X_train_base, Y_train)\n",
        "y_pred_L2 = model_L2.predict(X_test_base)\n",
        "mae_L2 = mean_absolute_error(Y_test, y_pred_L2)\n",
        "print(f'MAE (L2 regularization) = {mae_L2:.2f}')"
      ]
    },
    {
      "cell_type": "markdown",
      "metadata": {
        "id": "s940mdAmK1ur"
      },
      "source": [
        "В целом, регуляризация редко портит модель, но важно правильно подобрать коэффициент регуляризации. Как именно — поговорим дальше."
      ]
    },
    {
      "cell_type": "markdown",
      "metadata": {
        "id": "5iTC8BpaK1ur"
      },
      "source": [
        "### 3. Выбор метрики"
      ]
    },
    {
      "cell_type": "markdown",
      "metadata": {
        "id": "vpjjz37cK1ur"
      },
      "source": [
        "Средний модуль ошибки (MAE) — в целом довольно хорошая метрика для задачи регрессии, потому что ее довольно легко проинтерпретировать. Но с ней есть одна проблема: ошибиться на $ 10 000 $ USD в предсказании цены квартиры стоимостью $ 100 000 $ USD страшнее чем допустить такую ошибку в предсказании цены жилья за $ 700 000 $ USD. Иными словами более показательной метрикой будет не абсолютная  ошибка $ error_i = |y_i - \\hat{y_i}|$, а логарифм относительной ошибки $error_i = log \\frac{y_i}{\\hat{y_i}} $. Также давайте обычное усреднение по всем примерам в тестовой выборке заменим на среднеквадратичное $ \\frac{1}{N} \\sum_i^{test} {error_i} \\longrightarrow \\sqrt{\\frac{1}{N} \\sum_i^{test}{(error_i)^2}}$. Итоговая метрика получается равной:\n",
        "\n",
        "$$\n",
        "Metric = \\sqrt{\\frac{1}{N} \\sum_{i=1}^{N} (log(y_i) - log(\\hat{y_i}))^2}\n",
        "$$\n",
        "\n",
        "Логично? Да. Но возникает еще одна проблема. Логарифм нельзя брать от отрицательного числа. Бороться с этим можно двумя способами.\n",
        "- Случай когда отрицательное число затисалось в target-ax не очень разумен, т. к. цена на дом не может быть отрицательной. В этом случае стоит кинуть ошибку, чтобы пользователь этой функции еще раз перепроверил правильные ли таргеты он подает.\n",
        "- В целом, у нас нет гарантий того, что наша модель (например линейная) предсказывает только положительные числа. Брать логарифм от отрицательного числа не получится, но качество такой модели все еще надо оценить. Давайте все предсказания, которые меньше некоторого порога $ a_{min} $, заменять этим порогом ($ \\hat{y_i} \\longleftarrow max(\\hat{y_i}, a_{min}) $), после чего подавать их в метрику. Для прохождения тестов возьмите $ a_{min} = 1 $.\n",
        "\n",
        "**2. Реализуйте эту метрику и сдайте в контест**."
      ]
    },
    {
      "cell_type": "code",
      "execution_count": 2085,
      "metadata": {
        "id": "OAgpUi26K1ur",
        "pycharm": {
          "name": "#%%\n"
        }
      },
      "outputs": [],
      "source": [
        "def root_mean_squared_logarithmic_error(y_true, y_pred, a_min=1.0) -> float:\n",
        "    assert len(y_true) == len(y_pred), \"The length of true values and predicted values must be the same.\"\n",
        "    assert np.all(y_true >= 0), \"All true values must be non-negative.\"\n",
        "    # replace all values less than a_min with a_min\n",
        "    y_pred = np.maximum(y_pred, a_min)  # replace all values less than 1 with 1\n",
        "    \n",
        "    # Calculate the logarithmic differences\n",
        "    log_diff = np.log(y_pred) - np.log(y_true)\n",
        "    \n",
        "    # Calculate the mean squared logarithmic error\n",
        "    msle = np.mean(log_diff ** 2)\n",
        "    \n",
        "    # Return the root of the mean squared logarithmic error\n",
        "    return np.sqrt(msle)"
      ]
    },
    {
      "cell_type": "code",
      "execution_count": 2086,
      "metadata": {},
      "outputs": [
        {
          "name": "stdout",
          "output_type": "stream",
          "text": [
            "RMSLE (no regularization) = 0.19512217088003628\n",
            "RMSLE (L1 regularization) = 0.19504078444836068\n",
            "RMSLE (L2 regularization) = 0.19503810952872347\n"
          ]
        }
      ],
      "source": [
        "rmsle_NoL = root_mean_squared_logarithmic_error(Y_test, y_pred_NoL)\n",
        "print(f'RMSLE (no regularization) = {rmsle_NoL}')\n",
        "\n",
        "# L1-regularization Model\n",
        "\n",
        "rmsle_L1 = root_mean_squared_logarithmic_error(Y_test, y_pred_L1)\n",
        "print(f'RMSLE (L1 regularization) = {rmsle_L1}')\n",
        "\n",
        "# L2-regularization Model\n",
        "\n",
        "rmsle_L2 = root_mean_squared_logarithmic_error(Y_test, y_pred_L2)\n",
        "print(f'RMSLE (L2 regularization) = {rmsle_L2}')"
      ]
    },
    {
      "cell_type": "markdown",
      "metadata": {
        "id": "UABi31oTK1ur"
      },
      "source": [
        "### 4. Логарифмирование таргета."
      ]
    },
    {
      "cell_type": "markdown",
      "metadata": {
        "id": "yns3YwN-K1ur"
      },
      "source": [
        "Вообще идея с логарифмированием таргета довольно хороша для этой задачи. Давайте посмотрим на распределение обычных и логарифмированных таргетов."
      ]
    },
    {
      "cell_type": "code",
      "execution_count": 2087,
      "metadata": {
        "id": "JWb77b3uK1us",
        "pycharm": {
          "name": "#%%\n"
        }
      },
      "outputs": [],
      "source": [
        "def plot_target_distribution(Y_train, Y_test, ax, n_bins=20):\n",
        "    ax.hist(Y_train, bins=n_bins, label=\"train\", color=\"red\", alpha=0.3, density=True)\n",
        "    ax.hist(Y_test, bins=n_bins, label=\"test\", color=\"blue\", alpha=0.3, density=True)\n",
        "\n",
        "    ax.legend()\n",
        "    ax.set_xlabel(\"Value\")\n",
        "    ax.set_ylabel(\"Probability\")\n",
        "\n",
        "\n",
        "def plot_both_distributions(Y_train, Y_test):\n",
        "    fig, (ax0, ax1) = plt.subplots(ncols=2, nrows=1, figsize=(15, 6))\n",
        "\n",
        "    plot_target_distribution(Y_train, Y_test, ax=ax0)\n",
        "    ax0.set_title(\"Standard\")\n",
        "\n",
        "    plot_target_distribution(np.log(Y_train), np.log(Y_test), ax=ax1)\n",
        "    ax1.set_title(\"Logarithmic\")"
      ]
    },
    {
      "cell_type": "code",
      "execution_count": 2088,
      "metadata": {
        "id": "IOkOnHqKK1uv",
        "pycharm": {
          "name": "#%%\n"
        }
      },
      "outputs": [
        {
          "data": {
            "image/png": "[encoded data removed]",
            "text/plain": [
              "<Figure size 1500x600 with 2 Axes>"
            ]
          },
          "metadata": {},
          "output_type": "display_data"
        }
      ],
      "source": [
        "plot_both_distributions(Y_train, Y_test)"
      ]
    },
    {
      "cell_type": "markdown",
      "metadata": {
        "id": "8sdqyU7tK1uv"
      },
      "source": [
        "Как видите, если прологарифмировать таргеты, то их распределение станет более похоже на гауссовское. Интуиция подсказывает, что линейная регрессия с MSE loss-функцией должна лучше учиться на таких таргетах.\n",
        "\n",
        "Попробуйте написать класс, который во время обучения логарифмирует таргет, а во время предсказания — наоборот, экспоненциирует. После чего обучите оба метода на обучающих данных и сравните значения метрик MAE и MSLE на тесте."
      ]
    },
    {
      "cell_type": "markdown",
      "metadata": {
        "id": "1qyR7QyiK1uv"
      },
      "source": [
        "Что должно быть в этом классе:\n",
        "- Класс должен называться ```ExponentialLinearRegression```\n",
        "- Класс должен иметь такой же fit-predict интерфейс, как и было до этого. На вход он получает оригинальные X и Y, а уже внутри происходит логарифмирование или экспоненциирование.\n",
        "- Внутри этой модели будет работать [Ridge](https://scikit-learn.org/stable/modules/generated/sklearn.linear_model.Ridge.html). Хочется, чтобы этому классу можно было передавать аргументы инициализации с помощью *args и **kwargs\n",
        "- Чтобы потом этот класс можно было использовать в [GridSearchCV](https://scikit-learn.org/stable/modules/generated/sklearn.model_selection.GridSearchCV.html) в следующих пунктах, у него должны быть реализованы 5 методов\n",
        "    1. ```__init__(self, *args, **kwargs)``` - все полученные аргументы передаются дальше в Ridge.\n",
        "    2. ```fit(self, X, Y)``` - обучает класс, возвращает self.\n",
        "    3. ```predict(self, X)``` - делает предсказание.\n",
        "    4. ```get_params(deep=True)``` - возвращает dict с параметрами модели. Больще подробностей [здесь](https://scikit-learn.org/stable/modules/generated/sklearn.base.BaseEstimator.html)\n",
        "    5. ```set_params(**params)``` - передает нужные параметры в модель. Больше подробносте [здесь](https://scikit-learn.org/stable/modules/generated/sklearn.base.BaseEstimator.html)\n",
        "- Есть два подхода к тому как сделать все нужные методы:\n",
        "    - Отнаследоваться от класса Ridge и переопределить методы fit и predict, внутри вызывая super() от отцовского класса.\n",
        "    - Отнаследоваться от класса RegressorMixin и внутренним атрибутом класса сделать Ridge. Тогда все методы нужно будет писать руками."
      ]
    },
    {
      "cell_type": "code",
      "execution_count": 2089,
      "metadata": {
        "id": "IOnOVLY_K1uv",
        "pycharm": {
          "name": "#%%\n"
        }
      },
      "outputs": [],
      "source": [
        "class ExponentialLinearRegression(BaseEstimator, RegressorMixin):\n",
        "    def __init__(self, **ridge_params):\n",
        "        self.linear_model = Ridge(**ridge_params)  # Initialize Ridge regressor with parameters\n",
        "\n",
        "    def fit(self, X, Y):\n",
        "        # Apply logarithmic transformation to target\n",
        "        Y_log = np.log(Y)\n",
        "        self.linear_model.fit(X, Y_log)\n",
        "        return self\n",
        "\n",
        "    def predict(self, X):\n",
        "        # Apply logarithmic transformation to target\n",
        "        Y_log = self.linear_model.predict(X)\n",
        "        # Apply exponential transformation to get original target\n",
        "        return np.exp(Y_log)\n",
        "\n",
        "    def get_params(self, *args, **kwargs):\n",
        "        # Return the parameters of the model\n",
        "        return self.linear_model.get_params(*args, **kwargs)\n",
        "\n",
        "    def set_params(self, *args, **kwargs):\n",
        "        # Set the parameters of the model\n",
        "        self.linear_model.set_params(*args, **kwargs)"
      ]
    },
    {
      "cell_type": "markdown",
      "metadata": {
        "id": "hfGTYwdMK1uv"
      },
      "source": [
        "**3. Реализуйте этот класс и сдайте в контест**."
      ]
    },
    {
      "cell_type": "code",
      "execution_count": 2090,
      "metadata": {
        "id": "cBnuMKpTK1uv"
      },
      "outputs": [
        {
          "name": "stdout",
          "output_type": "stream",
          "text": [
            "Classic MAE : 23821.977761006812 MSLE : 0.1950062123328133\n",
            "Exponen MAE : 26818.699786544374 MSLE : 0.21601027716185423\n"
          ]
        }
      ],
      "source": [
        "classic_regressor = Ridge()\n",
        "exponential_regressor = ExponentialLinearRegression()\n",
        "\n",
        "classic_regressor.fit(X_train_base, Y_train)\n",
        "exponential_regressor.fit(X_train_base, Y_train)\n",
        "\n",
        "classic_prediction = classic_regressor.predict(X_test_base)\n",
        "exponential_prediction = exponential_regressor.predict(X_test_base)\n",
        "\n",
        "print(f\"Classic MAE : {mean_absolute_error(Y_test, classic_prediction)} MSLE : {root_mean_squared_logarithmic_error(Y_test, classic_prediction)}\")\n",
        "print(f\"Exponen MAE : {mean_absolute_error(Y_test, exponential_prediction)} MSLE : {root_mean_squared_logarithmic_error(Y_test, exponential_prediction)}\")"
      ]
    },
    {
      "cell_type": "markdown",
      "metadata": {
        "id": "mL9H6Fe0K1uw"
      },
      "source": [
        "Иногда получается так, что разные обученные вами модели приводят к улучшению одних метрик и ухудшению других. Это абсолютно нормально и этому не надо удивляться.\n",
        "\n",
        "Также зачастую случается так, что прирост по метрике не очень большой. И вы можете захотеть убедиться, что это реальное улучшение, а не просто случайная флуктуация. Для этого можно использовать подсчёт метрики про кросс-валидации (подробнее о ней можно почитать в соответствующей главе учебника). Суть метода в следующем:\n",
        "\n",
        "- мы разбиваем (случайным образом!) доступную нам выборку на $K$ (часто $K=5$) частей, которые называются _фолдами_\n",
        "- мы обучаем нашу модель $K$ раз, уча на всех фолдах, кроме одного, а на этом одном тестируя\n",
        "- мы получаем $K$ значений метрики, которые вместе дают нам лучшее представление о том, как ведёт себя модель на разных разбиениях на трейн и тест. В качестве итоговой метрики можно, к примеру, взять среднее полученных значений\n",
        "\n",
        "Сделать всё это можно с помощью обёртки [cross_val_score](https://scikit-learn.org/stable/modules/generated/sklearn.model_selection.cross_val_score.html), в которую можно подать модель, датасет и интересующую вас метрику. При этом оценку по кросс-валидации можно делать на всей доступной у вас выборке (ибо кросс-валидация уже включает разбиение на трейн и тест).\n",
        "\n",
        "Вычислите оценки MAE по кросс-валидации обычной (не регуляризованной) линейной регрессии и ExponentialLinearRegression на объединении обучающей и тестовой выборок.\n",
        "\n",
        "**4. Посчитайте и сдайте две оценки по кросс-валидации в Контест**.\n",
        "\n",
        "По шагам вам нужно\n",
        "1. Применить BaseDataPreprocessor к исходным данным\n",
        "2. Объединить трейн и тест\n",
        "3. Для первого числа использовать LinearRegression()\n",
        "4. Для второго -ExponentialLinearRegression с Ridge()\n",
        "5. Разбиение на фолды сделать с помощью `cv=KFold(n_splits=5, shuffle=True, random_state=42)`\n",
        "\n",
        "Обратите внимание, что параметр scoring — это не совсем функция-метрика, а немного более сложный объект, который можно соорудить, например, с помощью обёртки [make_scorer](https://scikit-learn.org/stable/modules/generated/sklearn.metrics.make_scorer.html#sklearn.metrics.make_scorer).\n",
        "\n",
        "Также имейте в виду, что, вообще говоря, с дефолтным значением параметра `cv` кросс-валидация разбивает датасет на фолды детерминированным образом. Если вам нужно случайное разбиение, то в качестве cv стоит подать объект класса `sklearn.model_selection.KFold` или `sklearn.model_selection.StratifiedKFold`. Используйте\n",
        "\n",
        "```\n",
        "cv=KFold(n_splits=5, shuffle=True, random_state=42)\n",
        "```"
      ]
    },
    {
      "cell_type": "markdown",
      "metadata": {
        "id": "VtgOlv6tK1uw",
        "pycharm": {
          "name": "#%% md\n"
        }
      },
      "source": [
        "Также при написании кода для кросс-валидации вам может пригодиться знание о пайплайнах.\n",
        "\n",
        "Представьте ситуацию. Прошел месяц с того момента, как вы построили модель, а теперь вам надо дообучить её на новых данных и активно применять для предсказания. Если вы не позаботились об инфраструктуре, то вам придётся рыскать по всему ноутбуку в поисках того, как вы предобрабатывали данные, какую модель учили, обязательно что-нибудь забудете и будете очень страдать. Поэтому человечество придумало пайплайны, которые позволяют объединить предобработку данных и обучение модели в один класс - pipeline. Его можно писать самому, либо взять из sklearn ([link](https://scikit-learn.org/stable/modules/generated/sklearn.pipeline.Pipeline.html))"
      ]
    },
    {
      "cell_type": "code",
      "execution_count": 2091,
      "metadata": {
        "id": "u3e3dNSaK1uw",
        "pycharm": {
          "name": "#%%\n"
        }
      },
      "outputs": [
        {
          "name": "stdout",
          "output_type": "stream",
          "text": [
            "Mean MAE for LinearRegression: 23226.019386268006\n",
            "Mean MAE for ExponentialLinRe: 21168.686251999254\n"
          ]
        }
      ],
      "source": [
        "# group train and test datasets after basedatapreprocessor (X_train_base, Y_train, X_test_base, Y_test)\n",
        "X_grouped_base = np.concatenate((X_train_base, X_test_base), axis=0)\n",
        "Y_grouped = np.concatenate((Y_train, Y_test), axis=0)\n",
        "\n",
        "# create pipeline\n",
        "pipeline_Linear = Pipeline([\n",
        "    ('preprocessor', BaseDataPreprocessor()),\n",
        "    ('regressor', LinearRegression())\n",
        "])\n",
        "pipeline_Exponential = Pipeline([\n",
        "    ('preprocessor', BaseDataPreprocessor()),\n",
        "    ('regressor', ExponentialLinearRegression(alpha=0.1))\n",
        "])\n",
        "# cross-validation\n",
        "\n",
        "\n",
        "# 1. cross-validation for LinearRegression\n",
        "scores_Linear = cross_val_score(pipeline_Linear, X_grouped_base, Y_grouped, cv=KFold(n_splits=5, shuffle=True, random_state=42), scoring='neg_mean_absolute_error')\n",
        "mean_score_Linear = np.mean(scores_Linear)\n",
        "# print the result rounded to integers\n",
        "print(f'Mean MAE for LinearRegression: {-mean_score_Linear}')\n",
        "\n",
        "\n",
        "# 2. cross-validation for ExponentialLinearRegression\n",
        "scores_Exponential = cross_val_score(pipeline_Exponential, X_grouped_base, Y_grouped, cv=KFold(n_splits=5, shuffle=True, random_state=42), scoring='neg_mean_absolute_error')\n",
        "mean_score_Exponential = np.mean(scores_Exponential)\n",
        "print(f'Mean MAE for ExponentialLinRe: {-mean_score_Exponential}')\n",
        "\n",
        "# I have no idea how to achive 21167. If you have any, please share it with me. Thanks!\n",
        "# You can find my contact in the readme.md file of this repository."
      ]
    },
    {
      "cell_type": "markdown",
      "metadata": {
        "id": "rjFgAA4YK1uw"
      },
      "source": [
        "### 5. Подбор гиперпараметров"
      ]
    },
    {
      "cell_type": "markdown",
      "metadata": {
        "id": "siKQL7pIK1uw"
      },
      "source": [
        "Линейную регрессию почти всегда можно улучшить с помощью регуляризации. Но при этом у нас возникает **гиперпараметр** — коэффициент регуляризации, и подбирать его нужно правильно. Более подробно о подборе гиперпараметров вы можете прочитать в соответствующей главе учебника), а пока мы разберём самые базовые подходы.\n",
        "\n",
        "В этой лабораторной вы познакомитесь с самым тривиальным способом — подбором по сетке. В данном случае это значит, что мы фиксируем несколько значений коэффициента регуляризации ```alpha``` и просто для каждого из них смотрим, что получится. Но важно отметить, что коэффициенты регуляризации стоит перебирать по _логарифмической_ сетке, например: `1e-2, 1e-1, 1, 1e+1, 1e+2`.\n",
        "\n",
        "Разобравшись, что перебирать, перейдём к вопросу о том, как оценивать. Есть два основных подхода:\n",
        "\n",
        "*   Train-Val-Test split. Датасет делится на три части, на одной модели учатся, на другой подбираются гиперпараметры, на третьей считаются финальные метрики. Этот метод довольно шумный, зато быстрый.\n",
        "*   Кроссвалидация. Она значительно дольше, но надёжней. В этом пункте мы воспользуемся именно ей.\n",
        "\n",
        "\n",
        "Возьмите класс [GridSearchCV](https://scikit-learn.org/stable/modules/generated/sklearn.model_selection.GridSearchCV.html) из scikit-learn и с его помощью подберите гиперпараметр ```alpha``` для линейной регрессии с L2-регуляризацией (соответствующий класс зовут Ridge). Возможно, для минимизации разных метрик (_root_mean_squared_logarithmic_error_ и _mean_absolute_error_) понадобятся разные значения гиперпараметров. Выберите из сетки ```np.logspace(-3, 3, num=7, base=10.)``` значение, которое максимизирует _root_mean_squared_logarithmic_error_ для _ExponentialLinearRegression_ и\n",
        "\n",
        "**5. Загрузите оптимальное значение коэффициента регуляризации в Контест**.\n",
        "\n",
        "Параметр `cv` оставьте дефолтным или возьмите `cv=5` (результат не поменяется). Будьте внимательны: по умолчанию `best_score_` у `GridSearchCV` - это _самое большое значение_. Чтобы не попасться в эту ловушку, обратите внимание на параметр `greater_is_better` функции `make_scorer`."
      ]
    },
    {
      "cell_type": "code",
      "execution_count": 2092,
      "metadata": {
        "id": "c_otnmqyK1uw",
        "pycharm": {
          "name": "#%%\n"
        }
      },
      "outputs": [
        {
          "name": "stdout",
          "output_type": "stream",
          "text": [
            "Best parameters: 10.0\n",
            "Best RMSLE: 0.16523663278443518\n"
          ]
        }
      ],
      "source": [
        "# Task 5: Hyperparameter Tuning\n",
        "# Task 5: Подбор гиперпараметров\n",
        "\n",
        "# Define the pipeline\n",
        "pipeline_Exponential = Pipeline([\n",
        "    ('preprocessor', BaseDataPreprocessor()),\n",
        "    ('model', ExponentialLinearRegression())\n",
        "])\n",
        "\n",
        "# Define the parameter grid\n",
        "param_grid = {\n",
        "    'model__alpha': np.logspace(-3, 3, num=7, base=10.) \n",
        "}\n",
        "\n",
        "# Define the scoring function (root mean squared logarithmic error)\n",
        "rmsle_scorer = make_scorer(root_mean_squared_logarithmic_error, greater_is_better=False)\n",
        "\n",
        "# Define the grid search\n",
        "grid_search = GridSearchCV(estimator=pipeline_Exponential, param_grid=param_grid, cv=5, scoring=rmsle_scorer)\n",
        "\n",
        "# Fit the grid search\n",
        "grid_search.fit(X_train_base, Y_train)\n",
        "\n",
        "# Get the best parameters and the best score\n",
        "best_params = grid_search.best_params_\n",
        "best_score = -grid_search.best_score_\n",
        "\n",
        "print(f\"Best parameters: {best_params['model__alpha']}\")\n",
        "print(f\"Best RMSLE: {best_score}\")"
      ]
    },
    {
      "cell_type": "markdown",
      "metadata": {
        "id": "lUYa5U1gK1uw"
      },
      "source": [
        "### 6. Линейная модель своими руками\n",
        "\n",
        "В этом разделе вы напишете собственный класс линейной модели, чтобы лучше разобраться, как работает обучение с помощью SGD. (Stochastic Gradient Descent)"
      ]
    },
    {
      "cell_type": "markdown",
      "metadata": {
        "id": "3-d2onzaK1uw"
      },
      "source": [
        "Линейная модель делает предсказание по такой формуле:\n",
        "$$\n",
        "\\hat{y_i} = \\langle \\vec{w}, \\vec{x_i} \\rangle + b\n",
        "$$\n",
        "Здесь $\\vec{w}$ и b - обучаемые параметры. $\\vec{x_i}$ - вектор фичей данного примера.\n",
        "$\\vec{w}$ и b находятся из задачи минимизации лосс функции:\n",
        "\n",
        "$$\n",
        "\\vec{w}, b = {argmin}_{\\vec{w}, b}(L) \\ ; \\ L = \\frac{1}{N} \\sum_{i=1}^{N} (y_i - \\hat{y_i})^2 + \\lambda \\vec{w}^T\\vec{w}\n",
        "$$"
      ]
    },
    {
      "cell_type": "markdown",
      "metadata": {
        "id": "SMisQdSGK1uw"
      },
      "source": [
        "Задачу минимизации лосс функции мы будем решать градиентным спуском. Для этого надо найти градиенты лосса по параметром модели."
      ]
    },
    {
      "cell_type": "markdown",
      "metadata": {
        "id": "RaB_KihjK1uw"
      },
      "source": [
        "$$\n",
        "\\nabla_b L = \\frac{2}{N} sum(X \\vec{w} + b - \\vec{y})\\\\\n",
        "\\nabla_{\\vec{w}} L = \\frac{2}{N} X^T(X \\vec{w} + b - \\vec{y}) + 2\\lambda \\vec{w}\n",
        "$$"
      ]
    },
    {
      "cell_type": "markdown",
      "metadata": {
        "id": "Ka0Q5OI6K1ux"
      },
      "source": [
        "Теперь давайте реализуем этот алгоритм ввиде класса с методами fit-predict.\n",
        "Что в нем должно быть:\n",
        "1. Класс должен называться ```SGDLinearRegressor```\n",
        "2. Класс должен быть отнаследован от sklearn-овского класса [RegressorMixin](https://scikit-learn.org/stable/modules/generated/sklearn.base.RegressorMixin.html)\n",
        "3. Класс должен инициализироваться со следующими гиперпараметрами:\n",
        "\n",
        "    a. ```lr``` — learning rate. Длина шага градиентного спуска\n",
        "\n",
        "    b. ```regularization``` — коэффициент λ из формулы выше\n",
        "    \n",
        "    c. ```delta_converged``` — устанавливает условие окончание обучение. В тот момент когда норма разности весов на соседних шагах градиентного спуска меньше чем ```delta_converged``` алгоритм перкращает обновлять веса\n",
        "    \n",
        "    d. ```max_steps``` — максимальное число шагов градиентного спуска\n",
        "    \n",
        "    e. ```batch_size``` — размер батча\n",
        "\n",
        "4. Реализуйте **стохастический** градиентный спуск. На каждом шагу градиентного спуска должен формироваться батч размера ```batch_size``` из матрицы признаков. Это нужно для того чтобы алгоритм быстрее сходился. Батч может выбираться случайно на каждом шаге градиентного спуска, либо каждую эпоху можно перемешивать трейн выборку и итерироваться батчами по ней."
      ]
    },
    {
      "cell_type": "markdown",
      "metadata": {
        "id": "WFIb9mjWK1ux",
        "pycharm": {
          "name": "#%% md\n"
        }
      },
      "source": [
        "Обратите внимание при реализации SGD на следующие моменты (частые ошибки):\n",
        "* не перепутайте, какие коэффициенты в SGD стоят при самой функции потерь, а какие — при регуляризационном члене. Правильный вариант: $\\frac{\\alpha}{batch\\_size}$ при градиенте MSE, $\\alpha\\lambda$ при градиенте регуляризатора.\n",
        "* для остановки нужно сравнивать норму, а не ее квадрат\n",
        "* для правильного решения нужно не итерироваться по батчу,  а перемножать матрицы (иначе не зайдет по TL)\n",
        "* метод `predict` должен возвращать одномерный numpy array (не двумерный вектор-столбец формы (X.shape[1], 1))"
      ]
    },
    {
      "cell_type": "code",
      "execution_count": 2093,
      "metadata": {
        "id": "AYmQ4zSkK1ux",
        "pycharm": {
          "name": "#%%\n"
        }
      },
      "outputs": [],
      "source": [
        "class SGDLinearRegressor(RegressorMixin):\n",
        "    def __init__(self,\n",
        "                 lr=0.01, regularization=1., delta_converged=1e-3, max_steps=1000,\n",
        "                 batch_size=64):\n",
        "        self.lr = lr\n",
        "        self.regularization = regularization\n",
        "        self.max_steps = max_steps\n",
        "        self.delta_converged = delta_converged\n",
        "        self.batch_size = batch_size\n",
        "\n",
        "        self.W = None\n",
        "        self.b = None\n",
        "\n",
        "    def fit(self, X, Y):\n",
        "        self.W = np.zeros(X.shape[1])\n",
        "        self.b = 0.0\n",
        "\n",
        "        steps_counter = 0\n",
        "        while steps_counter < self.max_steps:\n",
        "            indices = np.random.choice(X.shape[0], size=self.batch_size, replace=False)\n",
        "            X_batch = X[indices]\n",
        "            Y_batch = Y[indices]\n",
        "            self.W_prev = self.W.copy()\n",
        "\n",
        "            gradient_b = (2 / self.batch_size) * np.sum(X_batch @ self.W + self.b - Y_batch)\n",
        "            gradient_W = (2 / self.batch_size) * X_batch.T @ (X_batch @ self.W + self.b - Y_batch) + 2 * self.regularization * self.W\n",
        "\n",
        "            self.W -= self.lr * gradient_W\n",
        "            self.b -= self.lr * gradient_b\n",
        "\n",
        "            steps_counter += 1\n",
        "            if np.sqrt(np.sum((self.W - self.W_prev) ** 2)) < self.delta_converged:\n",
        "                break\n",
        "        return self\n",
        "\n",
        "\n",
        "    def predict(self, X):\n",
        "        return X @ self.W + self.b"
      ]
    },
    {
      "cell_type": "code",
      "execution_count": 2094,
      "metadata": {
        "id": "DanmLPpaK1ux",
        "pycharm": {
          "name": "#%%\n"
        }
      },
      "outputs": [
        {
          "name": "stdout",
          "output_type": "stream",
          "text": [
            "(586,) (586,)\n",
            "MAE :  25964.56746540032\n",
            "Mean log :  0.1897179971526135\n"
          ]
        }
      ],
      "source": [
        "# Check yourself\n",
        "\n",
        "model_SGD = SGDLinearRegressor()\n",
        "model_SGD.fit(X_train_base, Y_train)\n",
        "\n",
        "prediction = model_SGD.predict(X_test_base)\n",
        "print(Y_test.shape, prediction.shape)\n",
        "print(\"MAE : \", mean_absolute_error(Y_test, prediction))\n",
        "print(\"Mean log : \", root_mean_squared_logarithmic_error(Y_test, prediction))"
      ]
    },
    {
      "cell_type": "markdown",
      "metadata": {
        "id": "gdVXFO2aK1ux"
      },
      "source": [
        "### 7. Категориальные признаки"
      ]
    },
    {
      "cell_type": "markdown",
      "metadata": {
        "id": "npUKbcsbK1ux"
      },
      "source": [
        "В самом начале ноутбука мы отбросили категориальные фичи, хотя они могут помочь нам сделать модель лучше. Давайте же научимся ими пользоваться.\n",
        "\n",
        "Самый простой подход — это закодировать значения категориального признака числами, скажем, от $0$ до $C-1$, где $C$ — количество значений категориального признака. Иногда это может сработать, но для этого нужно, чтобы между значениями признака были определены отношения больше/меньше (такие признаки называются _ординальными_), причём соотношения между значениями должны быть более-менее линейными. В целом, не очень частая ситуация, поэтому так мы делать не будем.\n",
        "\n",
        "Вместо этого мы будем использовать OneHotEncoding. Пусть некоторая категориальная фича имеет $C$ уникальных значений. Давайте эту фичу закодируем в виде $C$ столбцов, каждый из которых соответствует некоторому уникальному значению категориальной фичи. Для каждого элемента выборки будем класть единичку в столбец, соответствующий этой фиче, и нолики в остальные.\n",
        "\n",
        "У этого метода есть недостаток. Если категориальная фича принимает слишком много значений, то вы нагенерируете много новых столбцов, каждый из которых будет содержать мало информации. Из-за них моделька может переобучиться.\n",
        "\n",
        "Этот метод имплементирован [здесь](https://scikit-learn.org/stable/modules/generated/sklearn.preprocessing.OneHotEncoder.html). У него есть пара важных гиперпараметров, которые стоит упомянуть:\n",
        "- ```handle_unknown``` - управляет обработкой незнакомых категорий на этапе `transform`. Число уникальных значений (и число столбцов) настраивается на обучающей выборке, и при дальнейшем применении может появиться значение, которого ещё не было. Если указать ```handle_unknown=\"ignore\"```, все поля для такого объекта будут заполнены нулями.\n",
        "- ```drop``` - если делать one-hot-encoding так как это описано выше, то сумма всех столбцов, соответствующих значениям категориальной фичи, будет равна единичному вектору. А такой вектор уже есть (он соответствует свободному члену). То есть признаки становятся линейно зависимыми, и это сломает процесс обучения линейной модели. Поэтому есть смысл для каждой фичи отбрасывать одну из получившихся колонок (```drop=\"first\"```) или хотя бы делать это только для бинарных фичей (```drop=\"if_binary\"```)"
      ]
    },
    {
      "cell_type": "markdown",
      "metadata": {
        "id": "V0es5bKeK1ux"
      },
      "source": [
        "В этом пункте вам надо еще раз предобработать данные, добавив в них часть категориальных фичей, закодированных OneHotEncoding-ом. После этого обучите классификатор заново и выбейте лучшую метрику на тестовой выборке. А именно, мы добавим фичи \"Overall_Qual\", \"Garage_Qual\", \"Sale_Condition\", \"MS_Zoning\". Используйте значение параметра handle_unknown=\"ignore\".\n",
        "\n",
        "*На практике в некоторых версиях scikit-learn есть проблема с совместимостью `handle_unknown=\"ignore\"` и `drop=\"first\"` одновременно, поэтому вторым можно пожертвовать.\n",
        "\n",
        "Класс будет наследоваться от BaseDataPreprocessor, так что в него можно будет передавать нужные для BaseDataPreprocessor параметры. Также это позволит не переписывать заново то, что происходит в базовом классе, а просто взывать к ним с помощью конструкции `super`."
      ]
    },
    {
      "cell_type": "code",
      "execution_count": 2095,
      "metadata": {
        "id": "GLKyWMP1K1ux",
        "pycharm": {
          "name": "#%%\n"
        }
      },
      "outputs": [],
      "source": [
        "interesting_columns = [\"Overall_Qual\", \"Garage_Qual\", \"Sale_Condition\", \"MS_Zoning\"]\n",
        "\n",
        "class OneHotPreprocessor(BaseDataPreprocessor):\n",
        "    def __init__(self, columns_to_encode: List[str], continue_columns: Optional[List[str]] = None):\n",
        "        super().__init__(needed_columns=continue_columns)\n",
        "        self.columns_to_encode = columns_to_encode\n",
        "        self.encoder = OneHotEncoder(handle_unknown=\"ignore\", drop=\"first\")\n",
        "\n",
        "    def fit(self, data: pd.DataFrame, *args):\n",
        "        super().fit(data, *args)\n",
        "        self.encoder.fit(data[self.columns_to_encode])\n",
        "        return self\n",
        "    \n",
        "    def transform(self, data: pd.DataFrame) -> np.array:\n",
        "        data_encoded = self.encoder.transform(data[self.columns_to_encode])\n",
        "        data_scaled = super().transform(data)\n",
        "        return np.concatenate((data_encoded.toarray(), data_scaled), axis=1)"
      ]
    },
    {
      "cell_type": "markdown",
      "metadata": {
        "id": "v80RppKdK1ux"
      },
      "source": [
        "Обучите модель с добавленными категориальными фичами. Получилось ли улучшить её качество?"
      ]
    },
    {
      "cell_type": "code",
      "execution_count": 2096,
      "metadata": {},
      "outputs": [
        {
          "name": "stdout",
          "output_type": "stream",
          "text": [
            "Mean log :  0.18561551256904105\n",
            "Mean log :  0.21601027716185423\n"
          ]
        }
      ],
      "source": [
        "ohe_preprocessor = OneHotPreprocessor(interesting_columns, continuous_columns)\n",
        "X_train_ohe = ohe_preprocessor.fit_transform(data_train)\n",
        "X_test_ohe = ohe_preprocessor.transform(data_test)\n",
        "\n",
        "model = ExponentialLinearRegression()\n",
        "model.fit(X_train_ohe, Y_train)\n",
        "\n",
        "ohe_prediction = model.predict(X_test_ohe)\n",
        "print(\"Mean log : \", root_mean_squared_logarithmic_error(Y_test, ohe_prediction))\n",
        "\n",
        "# With standart preprocessing\n",
        "model = ExponentialLinearRegression()\n",
        "model.fit(X_train_base, Y_train)\n",
        "\n",
        "base_prediction = model.predict(X_test_base)\n",
        "print(\"Mean log : \", root_mean_squared_logarithmic_error(Y_test, base_prediction))"
      ]
    },
    {
      "cell_type": "markdown",
      "metadata": {
        "id": "fWYh1NPbK1uy"
      },
      "source": [
        "### 8. Pipeline"
      ]
    },
    {
      "cell_type": "markdown",
      "metadata": {
        "id": "PlzhlXoLK1uy"
      },
      "source": [
        "Представьте ситуацию. Прошел месяц с того момента, как вы построили модель, а теперь вам надо дообучить её на новых данных и активно применять для предсказания. Если вы не позаботились об инфраструктуре, то вам придётся рыскать по всему ноутбуку в поисках того, как вы предобрабатывали данные, какую модель учили, обязательно что-нибудь забудете и будете очень страдать. Поэтому человечество придумало пайплайны, которые позволяют объединить предобработку данных и обучение модели в один класс — pipeline. Его можно писать самому, либо взять из sklearn ([link](https://scikit-learn.org/stable/modules/generated/sklearn.pipeline.Pipeline.html)).\n",
        "\n",
        "**7. Напишите пайплайн, объединяющий использованную нами базовую предобработку данных (BaseDataPreprocessor и OneHotPreprocessor), а также линейную регрессию с L2-регуляризацией, и сдайте его в Контест.**"
      ]
    },
    {
      "cell_type": "code",
      "execution_count": 2097,
      "metadata": {
        "id": "a6udrWyYK1uy",
        "pycharm": {
          "name": "#%%\n"
        }
      },
      "outputs": [],
      "source": [
        "def make_ultimate_pipeline(continuous_columns, categorical_columns):\n",
        "    # Define the preprocessor for continuous columns\n",
        "    base_preprocessor = BaseDataPreprocessor(needed_columns=continuous_columns)\n",
        "    \n",
        "    # Define the preprocessor for categorical columns\n",
        "    one_hot_preprocessor = OneHotPreprocessor(columns_to_encode=categorical_columns, continue_columns=continuous_columns)\n",
        "    \n",
        "    # Create a pipeline with both preprocessors and a regression model\n",
        "    pipeline = Pipeline([\n",
        "        ('preprocessorBase', base_preprocessor),\n",
        "        ('preprocessorOneHot', one_hot_preprocessor),\n",
        "        ('regressor', Ridge())\n",
        "    ])\n",
        "    \n",
        "    return pipeline"
      ]
    },
    {
      "cell_type": "markdown",
      "metadata": {
        "id": "XqmOG-epK1uz"
      },
      "source": [
        "В этом пункте вы попробуете сделать что-то поинтереснее и загрузите плоды ваших трудов в Контест.\n",
        "\n",
        "Попробуйте усовершенствовать предобработку данных, добавляя или выкидывая фичи, придумывая функции от признаков так, чтобы улучшить качество классификатора.\n",
        "\n",
        "Ещё несколько базовых идей о том, что можно было бы попробовать:\n",
        "\n",
        "- Постройте гистограммы значений признаков. Вы обнаружите, что некоторые из них почти всегда принимают одно и то же значение. Для начала их можно просто выкинуть.\n",
        "- Почистите выбросы. У некоторых объектов значения каких-то признаков могут сильно выбиваться, и это будет мешать регрессии обучиться. Вообще говоря, такие объекты можно выкидывать, но с текущей архитектурой пайплайна вам будет трудно это настроить. Так что вы можете пока заменять их на более разумные значения.\n",
        "- Мы добавили лишь несколько категориальных признаков, а на самом деле многие из них могут быть полезными.\n",
        "- Можно дискретизовать непрерывные фичи. Самый банальный пример: если непрерывная фича принимает всего несколько значений, её можно попробовать проинтерпретировать, как категориальную, и подать в one-hot энкодер. Но можно и как-то ещё разбивать по порогам.\n",
        "- Можно делать и более сложные преобразования. Например в датасете есть координаты квартиры, которые по идее сами по себе мало чего дают нашему регрессору. С другой стороны, по ним можно оценить центр города (или просто найти его на карте) и использовать в качестве фичи расстояние до центра города, которое может естественным образом влиять на цену жилья.\n",
        "- Не забывайте настраивать коэффициент регуляризации: для разных датасетов оптимальное значение будет разным.\n",
        "\n",
        "**В контест вам нужно будет сдать свой класс модели**. Он будет обучаться и тестироваться на новом и неизвестном вам разбиении датасета на трейн и тест по метрике `root_mean_squared_logarithmic_error`.\n",
        "В контесте будет специально проверено, что вы сдаёте именно `Pipeline`.\n",
        "\n",
        "Не забывайте, что вместе с пайплайном вам нужно отправить и все самописные классы, которые в нём участвуют.\n"
      ]
    }
  ],
  "metadata": {
    "colab": {
      "provenance": []
    },
    "kernelspec": {
      "display_name": "Python 3 (ipykernel)",
      "language": "python",
      "name": "python3"
    },
    "language_info": {
      "codemirror_mode": {
        "name": "ipython",
        "version": 3
      },
      "file_extension": ".py",
      "mimetype": "text/x-python",
      "name": "python",
      "nbconvert_exporter": "python",
      "pygments_lexer": "ipython3",
      "version": "3.11.7"
    }
  },
  "nbformat": 4,
  "nbformat_minor": 0
}
